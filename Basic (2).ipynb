{
 "cells": [
  {
   "cell_type": "code",
   "execution_count": 2,
   "id": "a0ad99c2",
   "metadata": {},
   "outputs": [
    {
     "name": "stdout",
     "output_type": "stream",
     "text": [
      "Hello world\n"
     ]
    }
   ],
   "source": [
    "print(\"Hello world\")"
   ]
  },
  {
   "cell_type": "code",
   "execution_count": 3,
   "id": "b7818980",
   "metadata": {},
   "outputs": [
    {
     "ename": "SyntaxError",
     "evalue": "invalid syntax (Temp/ipykernel_3196/3266092802.py, line 3)",
     "output_type": "error",
     "traceback": [
      "\u001b[1;36m  File \u001b[1;32m\"C:\\Users\\deepak\\AppData\\Local\\Temp/ipykernel_3196/3266092802.py\"\u001b[1;36m, line \u001b[1;32m3\u001b[0m\n\u001b[1;33m    variables only start with alphabets\u001b[0m\n\u001b[1;37m              ^\u001b[0m\n\u001b[1;31mSyntaxError\u001b[0m\u001b[1;31m:\u001b[0m invalid syntax\n"
     ]
    }
   ],
   "source": [
    "Variable\n",
    "\n",
    "variables only start with alphabets"
   ]
  },
  {
   "cell_type": "code",
   "execution_count": 6,
   "id": "65860163",
   "metadata": {},
   "outputs": [
    {
     "name": "stdout",
     "output_type": "stream",
     "text": [
      "10\n",
      "10 20\n",
      "2698314410576\n",
      "2698314410896\n"
     ]
    }
   ],
   "source": [
    "a=10\n",
    "b=20\n",
    "print(a)\n",
    "print(a,b)\n",
    "print(id(a))\n",
    "print(id(b))"
   ]
  },
  {
   "cell_type": "code",
   "execution_count": 8,
   "id": "8043fdd4",
   "metadata": {},
   "outputs": [
    {
     "name": "stdout",
     "output_type": "stream",
     "text": [
      "2698314410896\n"
     ]
    }
   ],
   "source": [
    "c=20\n",
    "print(id(c))"
   ]
  },
  {
   "cell_type": "code",
   "execution_count": 9,
   "id": "03eeb618",
   "metadata": {},
   "outputs": [
    {
     "name": "stdout",
     "output_type": "stream",
     "text": [
      "Hello\n"
     ]
    }
   ],
   "source": [
    "A='Hello'\n",
    "print(A)"
   ]
  },
  {
   "cell_type": "code",
   "execution_count": 10,
   "id": "4f61679c",
   "metadata": {},
   "outputs": [
    {
     "name": "stdout",
     "output_type": "stream",
     "text": [
      "10\n"
     ]
    }
   ],
   "source": [
    "_=10\n",
    "print(_)"
   ]
  },
  {
   "cell_type": "code",
   "execution_count": 11,
   "id": "b7b067b7",
   "metadata": {},
   "outputs": [
    {
     "name": "stdout",
     "output_type": "stream",
     "text": [
      "5\n"
     ]
    }
   ],
   "source": [
    "a1=5\n",
    "print(a1)"
   ]
  },
  {
   "cell_type": "code",
   "execution_count": 12,
   "id": "5ca63add",
   "metadata": {},
   "outputs": [
    {
     "ename": "SyntaxError",
     "evalue": "invalid syntax (Temp/ipykernel_3196/4204721050.py, line 1)",
     "output_type": "error",
     "traceback": [
      "\u001b[1;36m  File \u001b[1;32m\"C:\\Users\\deepak\\AppData\\Local\\Temp/ipykernel_3196/4204721050.py\"\u001b[1;36m, line \u001b[1;32m1\u001b[0m\n\u001b[1;33m    1a=6\u001b[0m\n\u001b[1;37m     ^\u001b[0m\n\u001b[1;31mSyntaxError\u001b[0m\u001b[1;31m:\u001b[0m invalid syntax\n"
     ]
    }
   ],
   "source": [
    "1a=6\n",
    "print(1a)"
   ]
  },
  {
   "cell_type": "code",
   "execution_count": 13,
   "id": "cb4cf7e1",
   "metadata": {},
   "outputs": [
    {
     "name": "stdout",
     "output_type": "stream",
     "text": [
      "15\n"
     ]
    }
   ],
   "source": [
    "a_b=15\n",
    "print(a_b)"
   ]
  },
  {
   "cell_type": "code",
   "execution_count": 14,
   "id": "9b0e3904",
   "metadata": {},
   "outputs": [
    {
     "name": "stdout",
     "output_type": "stream",
     "text": [
      "a_b\n"
     ]
    }
   ],
   "source": [
    "print('a_b')"
   ]
  },
  {
   "cell_type": "code",
   "execution_count": 15,
   "id": "e11dd1a8",
   "metadata": {},
   "outputs": [
    {
     "ename": "SyntaxError",
     "evalue": "invalid syntax (Temp/ipykernel_3196/472716551.py, line 1)",
     "output_type": "error",
     "traceback": [
      "\u001b[1;36m  File \u001b[1;32m\"C:\\Users\\deepak\\AppData\\Local\\Temp/ipykernel_3196/472716551.py\"\u001b[1;36m, line \u001b[1;32m1\u001b[0m\n\u001b[1;33m    @a=25\u001b[0m\n\u001b[1;37m      ^\u001b[0m\n\u001b[1;31mSyntaxError\u001b[0m\u001b[1;31m:\u001b[0m invalid syntax\n"
     ]
    }
   ],
   "source": [
    "@a=25\n",
    "print(@a)"
   ]
  },
  {
   "cell_type": "code",
   "execution_count": 16,
   "id": "c8e9640b",
   "metadata": {},
   "outputs": [
    {
     "name": "stdout",
     "output_type": "stream",
     "text": [
      "25\n"
     ]
    }
   ],
   "source": [
    "_a=25\n",
    "print(_a)"
   ]
  },
  {
   "cell_type": "code",
   "execution_count": 18,
   "id": "291091d1",
   "metadata": {},
   "outputs": [
    {
     "name": "stdout",
     "output_type": "stream",
     "text": [
      "HelloNet Tech India\n"
     ]
    }
   ],
   "source": [
    "a=\"Hello\"\n",
    "b=\"Net Tech India\"\n",
    "print(a+b)\n"
   ]
  },
  {
   "cell_type": "code",
   "execution_count": 19,
   "id": "b3e3f4db",
   "metadata": {},
   "outputs": [
    {
     "name": "stdout",
     "output_type": "stream",
     "text": [
      "Hello Net Tech India\n"
     ]
    }
   ],
   "source": [
    "print(a+\" \"+b)"
   ]
  },
  {
   "cell_type": "code",
   "execution_count": 20,
   "id": "084c5fcf",
   "metadata": {},
   "outputs": [
    {
     "name": "stdout",
     "output_type": "stream",
     "text": [
      "50\n"
     ]
    }
   ],
   "source": [
    "c=20\n",
    "print(c+30)"
   ]
  },
  {
   "cell_type": "code",
   "execution_count": 21,
   "id": "b88bd6d2",
   "metadata": {},
   "outputs": [
    {
     "ename": "TypeError",
     "evalue": "can only concatenate str (not \"int\") to str",
     "output_type": "error",
     "traceback": [
      "\u001b[1;31m---------------------------------------------------------------------------\u001b[0m",
      "\u001b[1;31mTypeError\u001b[0m                                 Traceback (most recent call last)",
      "\u001b[1;32m~\\AppData\\Local\\Temp/ipykernel_3196/4222838292.py\u001b[0m in \u001b[0;36m<module>\u001b[1;34m\u001b[0m\n\u001b[1;32m----> 1\u001b[1;33m \u001b[0mprint\u001b[0m\u001b[1;33m(\u001b[0m\u001b[0ma\u001b[0m\u001b[1;33m+\u001b[0m\u001b[0mc\u001b[0m\u001b[1;33m)\u001b[0m\u001b[1;33m\u001b[0m\u001b[1;33m\u001b[0m\u001b[0m\n\u001b[0m",
      "\u001b[1;31mTypeError\u001b[0m: can only concatenate str (not \"int\") to str"
     ]
    }
   ],
   "source": [
    "print(a+c)"
   ]
  },
  {
   "cell_type": "code",
   "execution_count": 24,
   "id": "d3e10f1c",
   "metadata": {},
   "outputs": [
    {
     "ename": "TypeError",
     "evalue": "unsupported operand type(s) for +: 'int' and 'str'",
     "output_type": "error",
     "traceback": [
      "\u001b[1;31m---------------------------------------------------------------------------\u001b[0m",
      "\u001b[1;31mTypeError\u001b[0m                                 Traceback (most recent call last)",
      "\u001b[1;32m~\\AppData\\Local\\Temp/ipykernel_3196/1535582947.py\u001b[0m in \u001b[0;36m<module>\u001b[1;34m\u001b[0m\n\u001b[0;32m      1\u001b[0m \u001b[0md\u001b[0m\u001b[1;33m=\u001b[0m\u001b[1;34m'50'\u001b[0m\u001b[1;33m\u001b[0m\u001b[1;33m\u001b[0m\u001b[0m\n\u001b[1;32m----> 2\u001b[1;33m \u001b[0mprint\u001b[0m\u001b[1;33m(\u001b[0m\u001b[0ma\u001b[0m\u001b[1;33m+\u001b[0m\u001b[0md\u001b[0m\u001b[1;33m)\u001b[0m\u001b[1;33m\u001b[0m\u001b[1;33m\u001b[0m\u001b[0m\n\u001b[0m",
      "\u001b[1;31mTypeError\u001b[0m: unsupported operand type(s) for +: 'int' and 'str'"
     ]
    }
   ],
   "source": [
    "d='50'\n",
    "print(a+d)"
   ]
  },
  {
   "cell_type": "code",
   "execution_count": 1,
   "id": "49df2d5e",
   "metadata": {},
   "outputs": [
    {
     "name": "stdout",
     "output_type": "stream",
     "text": [
      "10\n",
      "Aishwarya\n"
     ]
    },
    {
     "ename": "NameError",
     "evalue": "name 'Hello' is not defined",
     "output_type": "error",
     "traceback": [
      "\u001b[1;31m---------------------------------------------------------------------------\u001b[0m",
      "\u001b[1;31mNameError\u001b[0m                                 Traceback (most recent call last)",
      "\u001b[1;32m~\\AppData\\Local\\Temp/ipykernel_10000/586410389.py\u001b[0m in \u001b[0;36m<module>\u001b[1;34m\u001b[0m\n\u001b[0;32m      3\u001b[0m \u001b[0mb\u001b[0m\u001b[1;33m=\u001b[0m\u001b[1;34m\"Aishwarya\"\u001b[0m\u001b[1;33m\u001b[0m\u001b[1;33m\u001b[0m\u001b[0m\n\u001b[0;32m      4\u001b[0m \u001b[0mprint\u001b[0m\u001b[1;33m(\u001b[0m\u001b[0mb\u001b[0m\u001b[1;33m)\u001b[0m\u001b[1;33m\u001b[0m\u001b[1;33m\u001b[0m\u001b[0m\n\u001b[1;32m----> 5\u001b[1;33m \u001b[0mc\u001b[0m\u001b[1;33m=\u001b[0m\u001b[0mHello\u001b[0m\u001b[1;33m\u001b[0m\u001b[1;33m\u001b[0m\u001b[0m\n\u001b[0m\u001b[0;32m      6\u001b[0m \u001b[0mprint\u001b[0m\u001b[1;33m(\u001b[0m\u001b[0mc\u001b[0m\u001b[1;33m)\u001b[0m\u001b[1;33m\u001b[0m\u001b[1;33m\u001b[0m\u001b[0m\n",
      "\u001b[1;31mNameError\u001b[0m: name 'Hello' is not defined"
     ]
    }
   ],
   "source": [
    "a=10\n",
    "print(a)\n",
    "b=\"Aishwarya\"\n",
    "print(b)\n",
    "c=Hello\n",
    "print(c)"
   ]
  },
  {
   "cell_type": "code",
   "execution_count": 2,
   "id": "7f85dbbd",
   "metadata": {},
   "outputs": [
    {
     "name": "stdout",
     "output_type": "stream",
     "text": [
      "6\n"
     ]
    }
   ],
   "source": [
    "a=1+2+3\n",
    "print(a)"
   ]
  },
  {
   "cell_type": "code",
   "execution_count": 3,
   "id": "c2d17ee6",
   "metadata": {},
   "outputs": [
    {
     "name": "stdout",
     "output_type": "stream",
     "text": [
      "Hello world!\n"
     ]
    }
   ],
   "source": [
    "#this is a comment\n",
    "print(\"Hello world!\")"
   ]
  },
  {
   "cell_type": "code",
   "execution_count": 4,
   "id": "379dd454",
   "metadata": {},
   "outputs": [
    {
     "name": "stdout",
     "output_type": "stream",
     "text": [
      "Hello world!\n"
     ]
    }
   ],
   "source": [
    "''' my name is aishwarya i am from udgir district taluka latur i am graducated in computer science'''\n",
    "print(\"Hello world!\")"
   ]
  },
  {
   "cell_type": "code",
   "execution_count": 5,
   "id": "71e56bc3",
   "metadata": {},
   "outputs": [
    {
     "name": "stdout",
     "output_type": "stream",
     "text": [
      "<class 'int'>\n"
     ]
    }
   ],
   "source": [
    "a=10\n",
    "print(type(a))"
   ]
  },
  {
   "cell_type": "code",
   "execution_count": 6,
   "id": "7d7c5abd",
   "metadata": {},
   "outputs": [
    {
     "name": "stdout",
     "output_type": "stream",
     "text": [
      "<class 'float'>\n"
     ]
    }
   ],
   "source": [
    "b=10.0\n",
    "print(type(b))"
   ]
  },
  {
   "cell_type": "code",
   "execution_count": 7,
   "id": "a587e0bf",
   "metadata": {},
   "outputs": [
    {
     "name": "stdout",
     "output_type": "stream",
     "text": [
      "<class 'complex'>\n"
     ]
    }
   ],
   "source": [
    "c=10j\n",
    "print(type(c))"
   ]
  },
  {
   "cell_type": "code",
   "execution_count": 8,
   "id": "e0fe31d4",
   "metadata": {},
   "outputs": [
    {
     "data": {
      "text/plain": [
       "str"
      ]
     },
     "execution_count": 8,
     "metadata": {},
     "output_type": "execute_result"
    }
   ],
   "source": [
    "var=\"Welcome to nettech India\"\n",
    "type(var)"
   ]
  },
  {
   "cell_type": "code",
   "execution_count": 14,
   "id": "de8d5a55",
   "metadata": {},
   "outputs": [
    {
     "data": {
      "text/plain": [
       "list"
      ]
     },
     "execution_count": 14,
     "metadata": {},
     "output_type": "execute_result"
    }
   ],
   "source": [
    "List=[\"apple\",\"mango\",\"banana\",]\n",
    "type(List)"
   ]
  },
  {
   "cell_type": "code",
   "execution_count": 20,
   "id": "c2cb7744",
   "metadata": {},
   "outputs": [
    {
     "name": "stdout",
     "output_type": "stream",
     "text": [
      "<class 'tuple'>\n"
     ]
    }
   ],
   "source": [
    "Tuple=(\"apple\",\"mango\",\"grapes\",\"chiku\")\n",
    "type(Tuple)"
   ]
  },
  {
   "cell_type": "code",
   "execution_count": 21,
   "id": "02f73553",
   "metadata": {},
   "outputs": [
    {
     "name": "stdout",
     "output_type": "stream",
     "text": [
      "{'mango', 'apple', 'banana'}\n"
     ]
    }
   ],
   "source": [
    "set={\"apple\",\"mango\",\"banana\"}\n",
    "print(set)"
   ]
  },
  {
   "cell_type": "code",
   "execution_count": 23,
   "id": "9df3a8fc",
   "metadata": {},
   "outputs": [
    {
     "name": "stdout",
     "output_type": "stream",
     "text": [
      "<class 'dict'>\n"
     ]
    }
   ],
   "source": [
    "Dictionary={\"Name\":\"aishwarya\"}\n",
    "print(type(Dictionary))"
   ]
  },
  {
   "cell_type": "code",
   "execution_count": 24,
   "id": "a8a013da",
   "metadata": {},
   "outputs": [
    {
     "name": "stdout",
     "output_type": "stream",
     "text": [
      "True\n",
      "<class 'bool'>\n"
     ]
    }
   ],
   "source": [
    "x=25\n",
    "y=20\n",
    "\n",
    "z=x > y\n",
    "print(z)\n",
    "print(type(z))"
   ]
  },
  {
   "cell_type": "code",
   "execution_count": 25,
   "id": "ad662313",
   "metadata": {},
   "outputs": [
    {
     "name": "stdout",
     "output_type": "stream",
     "text": [
      "<class 'range'>\n"
     ]
    }
   ],
   "source": [
    "numbers=range(1,2,1)\n",
    "print(type(numbers))"
   ]
  },
  {
   "cell_type": "code",
   "execution_count": 26,
   "id": "a20640ab",
   "metadata": {},
   "outputs": [
    {
     "name": "stdout",
     "output_type": "stream",
     "text": [
      "Hello world\n"
     ]
    }
   ],
   "source": [
    "msg=\"Hello world\"\n",
    "print(msg)"
   ]
  },
  {
   "cell_type": "code",
   "execution_count": 28,
   "id": "a85cd25a",
   "metadata": {},
   "outputs": [
    {
     "name": "stdout",
     "output_type": "stream",
     "text": [
      "Enter Name:aish\n",
      "My name is aish\n"
     ]
    }
   ],
   "source": [
    "my_name=input(\"Enter Name:\")\n",
    "print(\"My name is\",my_name)"
   ]
  },
  {
   "cell_type": "code",
   "execution_count": 29,
   "id": "416c5fef",
   "metadata": {},
   "outputs": [
    {
     "name": "stdout",
     "output_type": "stream",
     "text": [
      "Enter number:23\n",
      "My number is 23\n"
     ]
    }
   ],
   "source": [
    "my_number=input(\"Enter number:\")\n",
    "print(\"My number is\",my_number)"
   ]
  },
  {
   "cell_type": "code",
   "execution_count": 30,
   "id": "8595b1e0",
   "metadata": {},
   "outputs": [
    {
     "name": "stdout",
     "output_type": "stream",
     "text": [
      "<class 'str'>\n"
     ]
    }
   ],
   "source": [
    "print(type(my_number))"
   ]
  },
  {
   "cell_type": "code",
   "execution_count": 31,
   "id": "9089e025",
   "metadata": {},
   "outputs": [
    {
     "name": "stdout",
     "output_type": "stream",
     "text": [
      "Enter the number:12\n",
      "Number is 12\n"
     ]
    }
   ],
   "source": [
    "my_number=int(input(\"Enter the number:\"))\n",
    "print(\"Number is\",my_number)"
   ]
  },
  {
   "cell_type": "code",
   "execution_count": 32,
   "id": "fc6cfb2a",
   "metadata": {},
   "outputs": [
    {
     "name": "stdout",
     "output_type": "stream",
     "text": [
      "<class 'int'>\n"
     ]
    }
   ],
   "source": [
    "print(type(my_number))"
   ]
  },
  {
   "cell_type": "code",
   "execution_count": 33,
   "id": "4cd09660",
   "metadata": {},
   "outputs": [
    {
     "name": "stdout",
     "output_type": "stream",
     "text": [
      "50\n"
     ]
    }
   ],
   "source": [
    "x=10\n",
    "y=40\n",
    "print(x+y)"
   ]
  },
  {
   "cell_type": "code",
   "execution_count": 34,
   "id": "89fd6e83",
   "metadata": {},
   "outputs": [
    {
     "name": "stdout",
     "output_type": "stream",
     "text": [
      "10\n"
     ]
    }
   ],
   "source": [
    "x=10\n",
    "y=20\n",
    "print(y-x)"
   ]
  },
  {
   "cell_type": "code",
   "execution_count": 35,
   "id": "3f5c5d24",
   "metadata": {},
   "outputs": [
    {
     "name": "stdout",
     "output_type": "stream",
     "text": [
      "8\n"
     ]
    }
   ],
   "source": [
    "x=2\n",
    "y=4\n",
    "print(x*y)"
   ]
  },
  {
   "cell_type": "code",
   "execution_count": 36,
   "id": "7dff924d",
   "metadata": {},
   "outputs": [
    {
     "name": "stdout",
     "output_type": "stream",
     "text": [
      "2.0\n"
     ]
    }
   ],
   "source": [
    "x=4\n",
    "y=2\n",
    "print(x/y)"
   ]
  },
  {
   "cell_type": "code",
   "execution_count": 37,
   "id": "e77ef2d6",
   "metadata": {},
   "outputs": [
    {
     "name": "stdout",
     "output_type": "stream",
     "text": [
      "1.8181818181818181\n",
      "1.0\n"
     ]
    }
   ],
   "source": [
    "x=2.2\n",
    "y=4\n",
    "print(y/x)\n",
    "print(y//x)"
   ]
  },
  {
   "cell_type": "code",
   "execution_count": 38,
   "id": "7bf1e20e",
   "metadata": {},
   "outputs": [
    {
     "name": "stdout",
     "output_type": "stream",
     "text": [
      "3\n"
     ]
    }
   ],
   "source": [
    "x=15\n",
    "y=4\n",
    "print(x % y)"
   ]
  },
  {
   "cell_type": "code",
   "execution_count": 39,
   "id": "5bde457d",
   "metadata": {},
   "outputs": [
    {
     "name": "stdout",
     "output_type": "stream",
     "text": [
      "4\n"
     ]
    }
   ],
   "source": [
    "num=2\n",
    "print(num ** 2)"
   ]
  },
  {
   "cell_type": "code",
   "execution_count": 40,
   "id": "30877dda",
   "metadata": {},
   "outputs": [
    {
     "name": "stdout",
     "output_type": "stream",
     "text": [
      "9\n"
     ]
    }
   ],
   "source": [
    "num1 = 3\n",
    "print(num1 ** 2)"
   ]
  },
  {
   "cell_type": "code",
   "execution_count": 1,
   "id": "e079e0f5",
   "metadata": {},
   "outputs": [
    {
     "name": "stdout",
     "output_type": "stream",
     "text": [
      "True\n",
      "False\n"
     ]
    }
   ],
   "source": [
    "x=10\n",
    "y=5\n",
    "print(x > y)\n",
    "print(x < y)\n"
   ]
  },
  {
   "cell_type": "code",
   "execution_count": 2,
   "id": "79c4697d",
   "metadata": {},
   "outputs": [
    {
     "name": "stdout",
     "output_type": "stream",
     "text": [
      "False\n",
      "True\n"
     ]
    }
   ],
   "source": [
    "print(x == y)\n",
    "print(x == 10)"
   ]
  },
  {
   "cell_type": "code",
   "execution_count": 3,
   "id": "497147d7",
   "metadata": {},
   "outputs": [
    {
     "name": "stdout",
     "output_type": "stream",
     "text": [
      "True\n",
      "True\n"
     ]
    }
   ],
   "source": [
    "print(x != y)\n",
    "print(10 != y)"
   ]
  },
  {
   "cell_type": "code",
   "execution_count": 4,
   "id": "cd8021da",
   "metadata": {},
   "outputs": [
    {
     "name": "stdout",
     "output_type": "stream",
     "text": [
      "True\n",
      "True\n"
     ]
    }
   ],
   "source": [
    "print(x >= y )\n",
    "print(10 <= x)"
   ]
  },
  {
   "cell_type": "code",
   "execution_count": 5,
   "id": "a3d35d4e",
   "metadata": {},
   "outputs": [
    {
     "name": "stdout",
     "output_type": "stream",
     "text": [
      "6\n"
     ]
    }
   ],
   "source": [
    "a=4\n",
    "b=2\n",
    "a += b\n",
    "print(a)"
   ]
  },
  {
   "cell_type": "code",
   "execution_count": 6,
   "id": "00599f37",
   "metadata": {},
   "outputs": [
    {
     "name": "stdout",
     "output_type": "stream",
     "text": [
      "2\n"
     ]
    }
   ],
   "source": [
    "a = 4\n",
    "a -= 2\n",
    "print(a)"
   ]
  },
  {
   "cell_type": "code",
   "execution_count": 7,
   "id": "ffcce5ca",
   "metadata": {},
   "outputs": [
    {
     "name": "stdout",
     "output_type": "stream",
     "text": [
      "8\n"
     ]
    }
   ],
   "source": [
    "a = 4\n",
    "a *= 2\n",
    "print(a)"
   ]
  },
  {
   "cell_type": "code",
   "execution_count": 8,
   "id": "a26c1892",
   "metadata": {},
   "outputs": [
    {
     "name": "stdout",
     "output_type": "stream",
     "text": [
      "16\n"
     ]
    }
   ],
   "source": [
    "a = 4\n",
    "a **= 2\n",
    "print(a)"
   ]
  },
  {
   "cell_type": "code",
   "execution_count": 9,
   "id": "45ff0bcc",
   "metadata": {},
   "outputs": [
    {
     "name": "stdout",
     "output_type": "stream",
     "text": [
      "2.0\n"
     ]
    }
   ],
   "source": [
    "a = 4\n",
    "a /= 2\n",
    "print(a)"
   ]
  },
  {
   "cell_type": "code",
   "execution_count": 10,
   "id": "81b78b8b",
   "metadata": {},
   "outputs": [
    {
     "name": "stdout",
     "output_type": "stream",
     "text": [
      "1\n"
     ]
    }
   ],
   "source": [
    "a = 5\n",
    "a %= 2\n",
    "print(a)"
   ]
  },
  {
   "cell_type": "code",
   "execution_count": 11,
   "id": "fa3b543d",
   "metadata": {},
   "outputs": [
    {
     "name": "stdout",
     "output_type": "stream",
     "text": [
      "2\n"
     ]
    }
   ],
   "source": [
    "a = 4\n",
    "a //= 2\n",
    "print(a)"
   ]
  },
  {
   "cell_type": "code",
   "execution_count": 12,
   "id": "6a58e9fd",
   "metadata": {},
   "outputs": [
    {
     "name": "stdout",
     "output_type": "stream",
     "text": [
      "True\n"
     ]
    }
   ],
   "source": [
    "x=5\n",
    "\n",
    "print(x > 3 and x < 10)"
   ]
  },
  {
   "cell_type": "code",
   "execution_count": 13,
   "id": "edeb1ed2",
   "metadata": {},
   "outputs": [
    {
     "name": "stdout",
     "output_type": "stream",
     "text": [
      "20\n",
      "5\n",
      "300\n"
     ]
    }
   ],
   "source": [
    "print(10 and 20)\n",
    "print(10 and 5)\n",
    "print(100 and 300)"
   ]
  },
  {
   "cell_type": "code",
   "execution_count": 14,
   "id": "1dca1270",
   "metadata": {},
   "outputs": [
    {
     "name": "stdout",
     "output_type": "stream",
     "text": [
      "True\n"
     ]
    }
   ],
   "source": [
    "x = 5\n",
    "\n",
    "print(x > 3 or x < 4)"
   ]
  },
  {
   "cell_type": "code",
   "execution_count": 15,
   "id": "c8a4d6d9",
   "metadata": {},
   "outputs": [
    {
     "name": "stdout",
     "output_type": "stream",
     "text": [
      "10\n",
      "10\n"
     ]
    }
   ],
   "source": [
    "print(10 or 20)\n",
    "print(10 or 5)"
   ]
  },
  {
   "cell_type": "code",
   "execution_count": 16,
   "id": "509fa9ee",
   "metadata": {},
   "outputs": [
    {
     "name": "stdout",
     "output_type": "stream",
     "text": [
      "100\n"
     ]
    }
   ],
   "source": [
    "print(100 or 300)"
   ]
  },
  {
   "cell_type": "code",
   "execution_count": 17,
   "id": "9b1aaa79",
   "metadata": {},
   "outputs": [
    {
     "name": "stdout",
     "output_type": "stream",
     "text": [
      "False\n"
     ]
    }
   ],
   "source": [
    "x = 5\n",
    "print(not(x > 3))"
   ]
  },
  {
   "cell_type": "code",
   "execution_count": 18,
   "id": "c9a7906b",
   "metadata": {},
   "outputs": [
    {
     "name": "stdout",
     "output_type": "stream",
     "text": [
      "False\n",
      "True\n"
     ]
    }
   ],
   "source": [
    "print(not 10)\n",
    "print(not 0)"
   ]
  },
  {
   "cell_type": "code",
   "execution_count": 19,
   "id": "ff4dd89f",
   "metadata": {},
   "outputs": [
    {
     "name": "stdout",
     "output_type": "stream",
     "text": [
      "True\n"
     ]
    }
   ],
   "source": [
    "x =[\"apple\" ,\"banana\"]\n",
    "\n",
    "print(\"banana\" in x)"
   ]
  },
  {
   "cell_type": "code",
   "execution_count": 20,
   "id": "be76b30b",
   "metadata": {},
   "outputs": [
    {
     "name": "stdout",
     "output_type": "stream",
     "text": [
      "False\n"
     ]
    }
   ],
   "source": [
    "x =[\"apple\" ,\"banana\"]\n",
    "\n",
    "print(\"banana\" not in x)"
   ]
  },
  {
   "cell_type": "code",
   "execution_count": 22,
   "id": "e1f2ce21",
   "metadata": {},
   "outputs": [
    {
     "name": "stdout",
     "output_type": "stream",
     "text": [
      "False\n",
      "True\n"
     ]
    }
   ],
   "source": [
    "x = 10\n",
    "y = 11\n",
    "z = 10\n",
    "print(x is y)\n",
    "print(x is  z)"
   ]
  },
  {
   "cell_type": "code",
   "execution_count": 23,
   "id": "0bde82d0",
   "metadata": {},
   "outputs": [
    {
     "name": "stdout",
     "output_type": "stream",
     "text": [
      "True\n",
      "False\n"
     ]
    }
   ],
   "source": [
    "print(x is not y)\n",
    "print(x is not z)"
   ]
  },
  {
   "cell_type": "code",
   "execution_count": 24,
   "id": "87288b5e",
   "metadata": {},
   "outputs": [
    {
     "name": "stdout",
     "output_type": "stream",
     "text": [
      "4\n",
      "5\n",
      "4\n"
     ]
    }
   ],
   "source": [
    "a = 7\n",
    "b = 4\n",
    "c = 5\n",
    "print(a & b)\n",
    "print(a & c)\n",
    "print(b & c)"
   ]
  },
  {
   "cell_type": "code",
   "execution_count": 25,
   "id": "e2fc1ab3",
   "metadata": {},
   "outputs": [
    {
     "name": "stdout",
     "output_type": "stream",
     "text": [
      "7\n"
     ]
    }
   ],
   "source": [
    "a = 7\n",
    "b = 4\n",
    "c = 5\n",
    "print(a | b)"
   ]
  },
  {
   "cell_type": "code",
   "execution_count": 26,
   "id": "12c48523",
   "metadata": {},
   "outputs": [
    {
     "name": "stdout",
     "output_type": "stream",
     "text": [
      "7\n",
      "5\n"
     ]
    }
   ],
   "source": [
    "print(a | c)\n",
    "print(b | c)"
   ]
  },
  {
   "cell_type": "code",
   "execution_count": 27,
   "id": "d8c54ac3",
   "metadata": {},
   "outputs": [
    {
     "name": "stdout",
     "output_type": "stream",
     "text": [
      "2\n",
      "1\n"
     ]
    }
   ],
   "source": [
    "a = 7\n",
    "b = 4\n",
    "c = 5\n",
    "print(a ^ c)\n",
    "print(b ^ c)"
   ]
  },
  {
   "cell_type": "code",
   "execution_count": null,
   "id": "0410c046",
   "metadata": {},
   "outputs": [],
   "source": []
  }
 ],
 "metadata": {
  "kernelspec": {
   "display_name": "Python 3 (ipykernel)",
   "language": "python",
   "name": "python3"
  },
  "language_info": {
   "codemirror_mode": {
    "name": "ipython",
    "version": 3
   },
   "file_extension": ".py",
   "mimetype": "text/x-python",
   "name": "python",
   "nbconvert_exporter": "python",
   "pygments_lexer": "ipython3",
   "version": "3.9.7"
  }
 },
 "nbformat": 4,
 "nbformat_minor": 5
}
